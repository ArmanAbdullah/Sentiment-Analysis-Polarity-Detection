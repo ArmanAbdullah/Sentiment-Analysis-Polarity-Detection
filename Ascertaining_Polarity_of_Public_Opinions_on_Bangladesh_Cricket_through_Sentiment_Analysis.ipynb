{
  "nbformat": 4,
  "nbformat_minor": 0,
  "metadata": {
    "kernelspec": {
      "display_name": "Python 3",
      "language": "python",
      "name": "python3"
    },
    "language_info": {
      "codemirror_mode": {
        "name": "ipython",
        "version": 3
      },
      "file_extension": ".py",
      "mimetype": "text/x-python",
      "name": "python",
      "nbconvert_exporter": "python",
      "pygments_lexer": "ipython3",
      "version": "3.6.8"
    },
    "colab": {
      "name": "Ascertaining Polarity of Public Opinions on Bangladesh Cricket through Sentiment Analysis.ipynb",
      "provenance": [],
      "collapsed_sections": [],
      "toc_visible": true,
      "include_colab_link": true
    }
  },
  "cells": [
    {
      "cell_type": "markdown",
      "metadata": {
        "id": "view-in-github",
        "colab_type": "text"
      },
      "source": [
        "<a href=\"https://colab.research.google.com/github/ArmanAbdullah/Sentiment-Analysis-Polarity-Detection/blob/master/Ascertaining_Polarity_of_Public_Opinions_on_Bangladesh_Cricket_through_Sentiment_Analysis.ipynb\" target=\"_parent\"><img src=\"https://colab.research.google.com/assets/colab-badge.svg\" alt=\"Open In Colab\"/></a>"
      ]
    },
    {
      "cell_type": "code",
      "metadata": {
        "id": "r7re9dKMejKB",
        "colab_type": "code",
        "colab": {}
      },
      "source": [
        "import numpy as np\n",
        "import pandas as pd\n",
        "import os\n",
        "import nltk\n",
        "import re"
      ],
      "execution_count": null,
      "outputs": []
    },
    {
      "cell_type": "code",
      "metadata": {
        "id": "1JnuLW0x1lyo",
        "colab_type": "code",
        "colab": {
          "base_uri": "https://localhost:8080/",
          "height": 54
        },
        "outputId": "4e276c10-026a-4884-aafe-9b12625d156e"
      },
      "source": [
        "from google.colab import drive\n",
        "drive.mount('/content/gdrive')"
      ],
      "execution_count": null,
      "outputs": [
        {
          "output_type": "stream",
          "text": [
            "Drive already mounted at /content/gdrive; to attempt to forcibly remount, call drive.mount(\"/content/gdrive\", force_remount=True).\n"
          ],
          "name": "stdout"
        }
      ]
    },
    {
      "cell_type": "markdown",
      "metadata": {
        "id": "xgIZO7GOejKH",
        "colab_type": "text"
      },
      "source": [
        "# Reading Data"
      ]
    },
    {
      "cell_type": "code",
      "metadata": {
        "id": "ds29LwSgejKH",
        "colab_type": "code",
        "colab": {}
      },
      "source": [
        "classDict = {'negative': 0, 'positive': 1,'neutral': 2}\n",
        "label2id = []\n",
        "def read_File():\n",
        "    sentences = []\n",
        "    labels = []\n",
        "    scrip_dir = os.path.dirname(os.path.realpath('__file__'))\n",
        "    rel_path = \"gdrive/My Drive/Final Project-2020/final_dataset4.txt\"\n",
        "    abs_file_path = os.path.join(scrip_dir, rel_path)\n",
        "    with open(abs_file_path, encoding='utf-8') as f:\n",
        "        for line in f:\n",
        "            word = line.split()\n",
        "            labels.append(word[0])\n",
        "            label2id.append(classDict[word[0]])\n",
        "            sentence = re.sub(word[0]+' ', '', line)\n",
        "            sentences.append(sentence)\n",
        "    print('read file complete')\n",
        "    \n",
        "    return sentences, labels"
      ],
      "execution_count": null,
      "outputs": []
    },
    {
      "cell_type": "code",
      "metadata": {
        "id": "R-UVb3drejKK",
        "colab_type": "code",
        "colab": {
          "base_uri": "https://localhost:8080/",
          "height": 34
        },
        "outputId": "f0bed30e-c984-4d7c-b5a4-875560daf018"
      },
      "source": [
        "sentences, labels = read_File()"
      ],
      "execution_count": null,
      "outputs": [
        {
          "output_type": "stream",
          "text": [
            "read file complete\n"
          ],
          "name": "stdout"
        }
      ]
    },
    {
      "cell_type": "code",
      "metadata": {
        "id": "gbkIQmN9ejKP",
        "colab_type": "code",
        "colab": {
          "base_uri": "https://localhost:8080/",
          "height": 204
        },
        "outputId": "b09aa853-187a-4790-e55d-ddb38688ee9c"
      },
      "source": [
        "data = {'label': labels,\n",
        "        'sentence': sentences\n",
        "        }\n",
        "\n",
        "df = pd.DataFrame(data, columns = ['label', 'sentence'])\n",
        "\n",
        "df.head()"
      ],
      "execution_count": null,
      "outputs": [
        {
          "output_type": "execute_result",
          "data": {
            "text/html": [
              "<div>\n",
              "<style scoped>\n",
              "    .dataframe tbody tr th:only-of-type {\n",
              "        vertical-align: middle;\n",
              "    }\n",
              "\n",
              "    .dataframe tbody tr th {\n",
              "        vertical-align: top;\n",
              "    }\n",
              "\n",
              "    .dataframe thead th {\n",
              "        text-align: right;\n",
              "    }\n",
              "</style>\n",
              "<table border=\"1\" class=\"dataframe\">\n",
              "  <thead>\n",
              "    <tr style=\"text-align: right;\">\n",
              "      <th></th>\n",
              "      <th>label</th>\n",
              "      <th>sentence</th>\n",
              "    </tr>\n",
              "  </thead>\n",
              "  <tbody>\n",
              "    <tr>\n",
              "      <th>0</th>\n",
              "      <td>positive</td>\n",
              "      <td>মুসফিক , মুমিনুল আর আসরাফুল বাংলাদেশের ক্রিকেট...</td>\n",
              "    </tr>\n",
              "    <tr>\n",
              "      <th>1</th>\n",
              "      <td>positive</td>\n",
              "      <td>এই মুহূর্তে পৃথিবীর সবচেয়ে ভয়ংকর শক্তিশালী ক্র...</td>\n",
              "    </tr>\n",
              "    <tr>\n",
              "      <th>2</th>\n",
              "      <td>negative</td>\n",
              "      <td>বলদ গুলা বলিং ভাল করলে বেটিং খারাপ করে বেটিং ভ...</td>\n",
              "    </tr>\n",
              "    <tr>\n",
              "      <th>3</th>\n",
              "      <td>positive</td>\n",
              "      <td>খুব ভাল ছিল ভাইয়া। আরো আসা করছি\\n</td>\n",
              "    </tr>\n",
              "    <tr>\n",
              "      <th>4</th>\n",
              "      <td>negative</td>\n",
              "      <td>ক্রিকেট খেলা বন্ধ করে দেওয়া উচিত।\\n</td>\n",
              "    </tr>\n",
              "  </tbody>\n",
              "</table>\n",
              "</div>"
            ],
            "text/plain": [
              "      label                                           sentence\n",
              "0  positive  মুসফিক , মুমিনুল আর আসরাফুল বাংলাদেশের ক্রিকেট...\n",
              "1  positive  এই মুহূর্তে পৃথিবীর সবচেয়ে ভয়ংকর শক্তিশালী ক্র...\n",
              "2  negative  বলদ গুলা বলিং ভাল করলে বেটিং খারাপ করে বেটিং ভ...\n",
              "3  positive                  খুব ভাল ছিল ভাইয়া। আরো আসা করছি\\n\n",
              "4  negative                ক্রিকেট খেলা বন্ধ করে দেওয়া উচিত।\\n"
            ]
          },
          "metadata": {
            "tags": []
          },
          "execution_count": 136
        }
      ]
    },
    {
      "cell_type": "code",
      "metadata": {
        "id": "S-1bjxKwejKT",
        "colab_type": "code",
        "colab": {
          "base_uri": "https://localhost:8080/",
          "height": 173
        },
        "outputId": "a435a681-a39a-4d30-f2ed-bbc8763561bd"
      },
      "source": [
        "df.describe(include='all')"
      ],
      "execution_count": null,
      "outputs": [
        {
          "output_type": "execute_result",
          "data": {
            "text/html": [
              "<div>\n",
              "<style scoped>\n",
              "    .dataframe tbody tr th:only-of-type {\n",
              "        vertical-align: middle;\n",
              "    }\n",
              "\n",
              "    .dataframe tbody tr th {\n",
              "        vertical-align: top;\n",
              "    }\n",
              "\n",
              "    .dataframe thead th {\n",
              "        text-align: right;\n",
              "    }\n",
              "</style>\n",
              "<table border=\"1\" class=\"dataframe\">\n",
              "  <thead>\n",
              "    <tr style=\"text-align: right;\">\n",
              "      <th></th>\n",
              "      <th>label</th>\n",
              "      <th>sentence</th>\n",
              "    </tr>\n",
              "  </thead>\n",
              "  <tbody>\n",
              "    <tr>\n",
              "      <th>count</th>\n",
              "      <td>2501</td>\n",
              "      <td>2501</td>\n",
              "    </tr>\n",
              "    <tr>\n",
              "      <th>unique</th>\n",
              "      <td>3</td>\n",
              "      <td>2501</td>\n",
              "    </tr>\n",
              "    <tr>\n",
              "      <th>top</th>\n",
              "      <td>negative</td>\n",
              "      <td>আসলে বাংলাদেশের নির্বাচন কমিটি স্বধীন ভাবে কাজ...</td>\n",
              "    </tr>\n",
              "    <tr>\n",
              "      <th>freq</th>\n",
              "      <td>1201</td>\n",
              "      <td>1</td>\n",
              "    </tr>\n",
              "  </tbody>\n",
              "</table>\n",
              "</div>"
            ],
            "text/plain": [
              "           label                                           sentence\n",
              "count       2501                                               2501\n",
              "unique         3                                               2501\n",
              "top     negative  আসলে বাংলাদেশের নির্বাচন কমিটি স্বধীন ভাবে কাজ...\n",
              "freq        1201                                                  1"
            ]
          },
          "metadata": {
            "tags": []
          },
          "execution_count": 137
        }
      ]
    },
    {
      "cell_type": "code",
      "metadata": {
        "id": "XPUr-UqEejKW",
        "colab_type": "code",
        "colab": {
          "base_uri": "https://localhost:8080/",
          "height": 483
        },
        "outputId": "1ec17670-e002-481f-c732-e0eb53a60cf8"
      },
      "source": [
        "my_colors = [(0.5,0.4,0.5), (0.75, 0.75, 0.25)]*5\n",
        "ax=df['label'].value_counts().plot(kind=\"bar\", rot=0,color=my_colors,figsize=(6,8))\n",
        "for p in ax.patches:\n",
        "  ax.annotate(np.round(p.get_height(),decimals=2),(p.get_x()+p.get_width()/2., p.get_height()),\n",
        "  ha='center',va='center', xytext=(0, 10),textcoords='offset points')"
      ],
      "execution_count": null,
      "outputs": [
        {
          "output_type": "display_data",
          "data": {
            "image/png": "[encoded data removed]",
            "text/plain": [
              "<Figure size 432x576 with 1 Axes>"
            ]
          },
          "metadata": {
            "tags": []
          }
        }
      ]
    },
    {
      "cell_type": "code",
      "metadata": {
        "id": "II6m224bSUgh",
        "colab_type": "code",
        "colab": {
          "base_uri": "https://localhost:8080/",
          "height": 34
        },
        "outputId": "2403d2b9-6de2-456d-da0d-487d6be87507"
      },
      "source": [
        "print([x for x in sentences if sentences.count(x) > 1])"
      ],
      "execution_count": null,
      "outputs": [
        {
          "output_type": "stream",
          "text": [
            "[]\n"
          ],
          "name": "stdout"
        }
      ]
    },
    {
      "cell_type": "markdown",
      "metadata": {
        "id": "QP93f97xejKZ",
        "colab_type": "text"
      },
      "source": [
        "# Data cleaning"
      ]
    },
    {
      "cell_type": "markdown",
      "metadata": {
        "id": "RiU4V8FBSbBT",
        "colab_type": "text"
      },
      "source": [
        "## Removing Extra characters"
      ]
    },
    {
      "cell_type": "code",
      "metadata": {
        "id": "gKgrkbUYejKa",
        "colab_type": "code",
        "colab": {}
      },
      "source": [
        "def clean_sentence(sent):\n",
        "\n",
        "    sent = re.sub('[?.`*^()!°¢܌Ͱ̰ߒנ~×Ҡߘ:ҰߑÍ|।;!,&%\\'@#$><A-Za-z0+-9=./''\"\"_০-৯]', ' ', sent)\n",
        "    sent = re.sub(r'(\\W)(?=\\1)', ' ', sent)\n",
        "    sent = re.sub(r'https?:\\/\\/.*[\\r\\n]*', ' ', sent, flags=re.MULTILINE)\n",
        "    sent = re.sub(r'\\<a href', ' ', sent)\n",
        "    sent = re.sub(r'&amp;', ' ', sent) \n",
        "    sent = re.sub(r'<br />', ' ', sent)\n",
        "    sent = re.sub(r'\\'', ' ', sent)\n",
        "    sent = re.sub(r'ߑͰߑ̰ߒנ', ' ', sent)\n",
        "    sent = re.sub(r'ߎɰߎɰߎɍ', ' ', sent)\n",
        "    sent = re.sub(' +',' ',sent)\n",
        "    sent = sent.strip()\n",
        "    return sent"
      ],
      "execution_count": null,
      "outputs": []
    },
    {
      "cell_type": "code",
      "metadata": {
        "id": "ZalKxDl-ejKg",
        "colab_type": "code",
        "colab": {}
      },
      "source": [
        "for i, sent  in enumerate(df['sentence'].tolist()):\n",
        "    df.loc[i,'clean_sentence'] = clean_sentence(sent)"
      ],
      "execution_count": null,
      "outputs": []
    },
    {
      "cell_type": "code",
      "metadata": {
        "id": "vuyKg9CzejKj",
        "colab_type": "code",
        "colab": {
          "base_uri": "https://localhost:8080/",
          "height": 68
        },
        "outputId": "04dbaa17-d2f1-4bf9-f1bc-ddb11d531d1a"
      },
      "source": [
        "print('Before Cleaning: ',df.loc[742,'sentence'])\n",
        "test = df.loc[742,'clean_sentence']\n",
        "print('After Cleaning: ',test)"
      ],
      "execution_count": null,
      "outputs": [
        {
          "output_type": "stream",
          "text": [
            "Before Cleaning:  অনেক ভালো খেলেছে বাংলাদেশ ২০০/৮, লিড ৩১২। পরের ইনিংসে ভালো করবে।\n",
            "\n",
            "After Cleaning:  অনেক ভালো খেলেছে বাংলাদেশ লিড পরের ইনিংসে ভালো করবে\n"
          ],
          "name": "stdout"
        }
      ]
    },
    {
      "cell_type": "markdown",
      "metadata": {
        "id": "yWQUikhkejKm",
        "colab_type": "text"
      },
      "source": [
        "## Tokenized Sentence"
      ]
    },
    {
      "cell_type": "code",
      "metadata": {
        "id": "_AZvdz7cejKn",
        "colab_type": "code",
        "colab": {}
      },
      "source": [
        "def tokenized_data(sent):\n",
        "    tokenized_text = sent.split()\n",
        "    return tokenized_text"
      ],
      "execution_count": null,
      "outputs": []
    },
    {
      "cell_type": "code",
      "metadata": {
        "id": "ZirZDDtaBBNz",
        "colab_type": "code",
        "colab": {
          "base_uri": "https://localhost:8080/",
          "height": 34
        },
        "outputId": "382c3d90-ba12-4bf8-c270-ad1fbf65d0c1"
      },
      "source": [
        "tokenized_data(\"অভিনন্দন মোস্তাফিজ তুমি এটার উপযুক্ত ছিলে\")"
      ],
      "execution_count": null,
      "outputs": [
        {
          "output_type": "execute_result",
          "data": {
            "text/plain": [
              "['অভিনন্দন', 'মোস্তাফিজ', 'তুমি', 'এটার', 'উপযুক্ত', 'ছিলে']"
            ]
          },
          "metadata": {
            "tags": []
          },
          "execution_count": 144
        }
      ]
    },
    {
      "cell_type": "markdown",
      "metadata": {
        "id": "7mDoHIK_ejKq",
        "colab_type": "text"
      },
      "source": [
        "## Remove stopwords"
      ]
    },
    {
      "cell_type": "code",
      "metadata": {
        "id": "Y72E_kaX2Vja",
        "colab_type": "code",
        "colab": {}
      },
      "source": [
        "def read_stop_words():\n",
        "    stop_words = []\n",
        "    scrip_dir = os.path.dirname(os.path.realpath('__file__'))\n",
        "    rel_path = \"gdrive/My Drive/Final Project-2020/stopwords4.txt\"\n",
        "    abs_file_path = os.path.join(scrip_dir, rel_path)\n",
        "    with open(abs_file_path, encoding='utf-8') as f:\n",
        "        for line in f:\n",
        "          line=re.sub('\\n','',line)\n",
        "          if(not line in stop_words):{\n",
        "              stop_words.append(line)\n",
        "          }\n",
        "          \n",
        "          \n",
        "    print('read file complete')\n",
        "    \n",
        "    return stop_words"
      ],
      "execution_count": null,
      "outputs": []
    },
    {
      "cell_type": "code",
      "metadata": {
        "id": "HnB1ab-62jEk",
        "colab_type": "code",
        "colab": {
          "base_uri": "https://localhost:8080/",
          "height": 34
        },
        "outputId": "7fb03e50-c1da-46fa-a810-7e86d542ba84"
      },
      "source": [
        "stop_words=read_stop_words()"
      ],
      "execution_count": null,
      "outputs": [
        {
          "output_type": "stream",
          "text": [
            "read file complete\n"
          ],
          "name": "stdout"
        }
      ]
    },
    {
      "cell_type": "code",
      "metadata": {
        "id": "UQ89HCHL2r3b",
        "colab_type": "code",
        "colab": {
          "base_uri": "https://localhost:8080/",
          "height": 34
        },
        "outputId": "8bacd3a2-226c-49f6-c7ff-89ed8a71f70b"
      },
      "source": [
        "stop_words_arr=np.array(stop_words)\n",
        "print(len(stop_words_arr))"
      ],
      "execution_count": null,
      "outputs": [
        {
          "output_type": "stream",
          "text": [
            "193\n"
          ],
          "name": "stdout"
        }
      ]
    },
    {
      "cell_type": "code",
      "metadata": {
        "id": "ZReG33etejKq",
        "colab_type": "code",
        "colab": {}
      },
      "source": [
        "def remove_stop_words(text):\n",
        "    text = [w for w in text if not w in stop_words]\n",
        "    text = ' '.join(text)\n",
        "    return text"
      ],
      "execution_count": null,
      "outputs": []
    },
    {
      "cell_type": "code",
      "metadata": {
        "id": "v4NsFZM0ejKt",
        "colab_type": "code",
        "colab": {
          "base_uri": "https://localhost:8080/",
          "height": 51
        },
        "outputId": "2ae2df5d-6809-485e-918d-eacaf687214f"
      },
      "source": [
        "t_data = tokenized_data(test)\n",
        "r_word = remove_stop_words(t_data)\n",
        "print('befor removal :', test)\n",
        "print('after removal :', r_word)"
      ],
      "execution_count": null,
      "outputs": [
        {
          "output_type": "stream",
          "text": [
            "befor removal : অনেক ভালো খেলেছে বাংলাদেশ লিড পরের ইনিংসে ভালো করবে\n",
            "after removal : অনেক ভালো খেলেছে বাংলাদেশ লিড পরের ইনিংসে ভালো\n"
          ],
          "name": "stdout"
        }
      ]
    },
    {
      "cell_type": "code",
      "metadata": {
        "id": "NJwHPnMsejKw",
        "colab_type": "code",
        "colab": {}
      },
      "source": [
        "df['clean_data'] = [remove_stop_words(tokenized_data(sent)) for sent in df['clean_sentence'].tolist()]\n",
        "#del df['sentence']\n",
        "df.to_csv('sentiment_analysis_clean_data.csv', encoding='utf-8', index=False)"
      ],
      "execution_count": null,
      "outputs": []
    },
    {
      "cell_type": "markdown",
      "metadata": {
        "id": "M-sB1FsDejKy",
        "colab_type": "text"
      },
      "source": [
        "# Word to Vector transformation by ngram approch"
      ]
    },
    {
      "cell_type": "code",
      "metadata": {
        "id": "DpNqik8IejKz",
        "colab_type": "code",
        "colab": {
          "base_uri": "https://localhost:8080/",
          "height": 34
        },
        "outputId": "65ca011d-962a-4a6b-818e-0e4a97f3b92c"
      },
      "source": [
        "from sklearn.feature_extraction.text import CountVectorizer\n",
        "stpGram = {}\n",
        "word_vectorizerGram = CountVectorizer(analyzer='word', ngram_range=(1, 2), min_df=1, lowercase=False,\n",
        "                                          token_pattern=u'[\\S]+', tokenizer=None)\n",
        "\n",
        "\n",
        "word_vectorizerGram.fit_transform(df['clean_sentence'])\n",
        "stpGram = word_vectorizerGram.get_feature_names()\n",
        "\n",
        "print(len(stpGram))"
      ],
      "execution_count": null,
      "outputs": [
        {
          "output_type": "stream",
          "text": [
            "19164\n"
          ],
          "name": "stdout"
        }
      ]
    },
    {
      "cell_type": "code",
      "metadata": {
        "id": "0LVFc3I3ejK4",
        "colab_type": "code",
        "colab": {
          "base_uri": "https://localhost:8080/",
          "height": 51
        },
        "outputId": "3b558fef-6502-4ffa-cb96-8d29b8cb2b7b"
      },
      "source": [
        "word_vectorizerGram_rsw = CountVectorizer(analyzer='word', ngram_range=(1, 2), min_df=1, lowercase=False,\n",
        "                                          token_pattern=u'[\\S]+', tokenizer=None)\n",
        "\n",
        "word_vectorizerGram_rsw.fit_transform(df['clean_data'])\n",
        "stpGram_rsw = word_vectorizerGram_rsw.get_feature_names()\n",
        "\n",
        "print(len(stpGram_rsw))\n",
        "print('sample of bigram : ',stpGram_rsw[20])\n"
      ],
      "execution_count": null,
      "outputs": [
        {
          "output_type": "stream",
          "text": [
            "16163\n",
            "sample of bigram :  অগ্রাধিকার\n"
          ],
          "name": "stdout"
        }
      ]
    },
    {
      "cell_type": "code",
      "metadata": {
        "id": "COK3eZNGejK6",
        "colab_type": "code",
        "colab": {}
      },
      "source": [
        "def sentence_to_vector_transform(line, stpGram):\n",
        "    vec = CountVectorizer(analyzer='word', ngram_range=(1, 2), min_df=1, lowercase=False, token_pattern=u'[\\S]+',\n",
        "                            tokenizer=None, vocabulary=stpGram)\n",
        "    tList = []\n",
        "    tList.append(line)\n",
        "    sent = vec.transform(tList)\n",
        "    sent = sent.toarray()\n",
        "    sent = np.squeeze(np.asarray(sent))\n",
        "    return sent"
      ],
      "execution_count": null,
      "outputs": []
    },
    {
      "cell_type": "code",
      "metadata": {
        "id": "vBzquRyUejK-",
        "colab_type": "code",
        "colab": {}
      },
      "source": [
        "def sentence_to_vector(data, stpGram):\n",
        "    dataForModelTrainning = []\n",
        "    colName = []\n",
        "    dataVec = []\n",
        "    dataVec.append(colName)\n",
        "    \n",
        "    for idx, sent in enumerate(data):\n",
        "        \n",
        "        sent = sentence_to_vector_transform(sent, stpGram)\n",
        "        sentLst = list(sent)\n",
        "        dtList = []\n",
        "        try:\n",
        "            dtList.append(label2id[idx])\n",
        "            dataForModelTrainning.append(sent)\n",
        "        except:\n",
        "            print(idx)\n",
        "        for item in sentLst:\n",
        "            dtList.append(item)\n",
        "        lengthOfEV = len(dtList)\n",
        "        dataVec.append(dtList)\n",
        "        \n",
        "    return dataForModelTrainning"
      ],
      "execution_count": null,
      "outputs": []
    },
    {
      "cell_type": "code",
      "metadata": {
        "id": "wxThdAgfejLA",
        "colab_type": "code",
        "colab": {
          "base_uri": "https://localhost:8080/",
          "height": 68
        },
        "outputId": "389e12c7-4e35-42d1-b9d4-cff9ef28fba0"
      },
      "source": [
        "dataForModelTrainning = sentence_to_vector(df['clean_data'], stpGram_rsw)\n",
        "dataForModelTrainning[0:3]"
      ],
      "execution_count": null,
      "outputs": [
        {
          "output_type": "execute_result",
          "data": {
            "text/plain": [
              "[array([0, 0, 0, ..., 0, 0, 0]),\n",
              " array([0, 0, 0, ..., 0, 0, 0]),\n",
              " array([0, 0, 0, ..., 0, 0, 0])]"
            ]
          },
          "metadata": {
            "tags": []
          },
          "execution_count": 155
        }
      ]
    },
    {
      "cell_type": "markdown",
      "metadata": {
        "id": "WV-orqAOejLD",
        "colab_type": "text"
      },
      "source": [
        "# Data split for training and testing"
      ]
    },
    {
      "cell_type": "code",
      "metadata": {
        "id": "mAl_q7yjejLD",
        "colab_type": "code",
        "colab": {}
      },
      "source": [
        "from sklearn.model_selection import train_test_split\n",
        "X_train, X_test, y_train, y_test = train_test_split(dataForModelTrainning, label2id, test_size=0.2, random_state=0)"
      ],
      "execution_count": null,
      "outputs": []
    },
    {
      "cell_type": "markdown",
      "metadata": {
        "id": "_LEBWrU9ejLH",
        "colab_type": "text"
      },
      "source": [
        "# Train Models"
      ]
    },
    {
      "cell_type": "code",
      "metadata": {
        "id": "wJYF2KVnbGjW",
        "colab_type": "code",
        "colab": {}
      },
      "source": [
        "from sklearn.naive_bayes import MultinomialNB\n",
        "from sklearn.naive_bayes import BernoulliNB\n",
        "from sklearn.naive_bayes import GaussianNB\n",
        "from sklearn.linear_model import LogisticRegression\n",
        "from sklearn.svm import SVC"
      ],
      "execution_count": null,
      "outputs": []
    },
    {
      "cell_type": "markdown",
      "metadata": {
        "id": "YPSNZrn9b6sI",
        "colab_type": "text"
      },
      "source": [
        "## Naive Bayes"
      ]
    },
    {
      "cell_type": "code",
      "metadata": {
        "id": "V0uf55LsejLH",
        "colab_type": "code",
        "colab": {
          "base_uri": "https://localhost:8080/",
          "height": 34
        },
        "outputId": "d4d400e1-b033-4339-88c2-7ee8c638b47f"
      },
      "source": [
        "mlnNB = MultinomialNB()\n",
        "mlnNB.fit(X_train ,y_train)"
      ],
      "execution_count": null,
      "outputs": [
        {
          "output_type": "execute_result",
          "data": {
            "text/plain": [
              "MultinomialNB(alpha=1.0, class_prior=None, fit_prior=True)"
            ]
          },
          "metadata": {
            "tags": []
          },
          "execution_count": 158
        }
      ]
    },
    {
      "cell_type": "code",
      "metadata": {
        "id": "eKyvFw4-bE5O",
        "colab_type": "code",
        "colab": {
          "base_uri": "https://localhost:8080/",
          "height": 34
        },
        "outputId": "dba87ff6-f5e5-4334-f4c7-a13f1e004cb1"
      },
      "source": [
        "bnlNB = BernoulliNB(alpha = 0.5) \n",
        "bnlNB.fit(X_train ,y_train)"
      ],
      "execution_count": null,
      "outputs": [
        {
          "output_type": "execute_result",
          "data": {
            "text/plain": [
              "BernoulliNB(alpha=0.5, binarize=0.0, class_prior=None, fit_prior=True)"
            ]
          },
          "metadata": {
            "tags": []
          },
          "execution_count": 159
        }
      ]
    },
    {
      "cell_type": "code",
      "metadata": {
        "id": "CMA1_hJnbFX3",
        "colab_type": "code",
        "colab": {
          "base_uri": "https://localhost:8080/",
          "height": 34
        },
        "outputId": "438ad2f9-c149-481a-dc32-23ac1fd63206"
      },
      "source": [
        "gNB = GaussianNB() \n",
        "gNB.fit(X_train ,y_train)"
      ],
      "execution_count": null,
      "outputs": [
        {
          "output_type": "execute_result",
          "data": {
            "text/plain": [
              "GaussianNB(priors=None, var_smoothing=1e-09)"
            ]
          },
          "metadata": {
            "tags": []
          },
          "execution_count": 160
        }
      ]
    },
    {
      "cell_type": "markdown",
      "metadata": {
        "id": "ynhEIPfXdHN8",
        "colab_type": "text"
      },
      "source": [
        "## Support Vector Classifier"
      ]
    },
    {
      "cell_type": "code",
      "metadata": {
        "id": "WQeV8oj2dWkM",
        "colab_type": "code",
        "colab": {}
      },
      "source": [
        "C = 1.0  # SVM regularization parameter\n",
        "linear_svc = SVC(kernel='linear', C=C)\n",
        "linear_svc = linear_svc.fit(X_train, y_train)"
      ],
      "execution_count": null,
      "outputs": []
    },
    {
      "cell_type": "markdown",
      "metadata": {
        "id": "e3O9GQSyQesm",
        "colab_type": "text"
      },
      "source": [
        "## Logistic Regression"
      ]
    },
    {
      "cell_type": "code",
      "metadata": {
        "id": "TZDVoAKEnpdF",
        "colab_type": "code",
        "colab": {
          "base_uri": "https://localhost:8080/",
          "height": 102
        },
        "outputId": "4827b87c-15c6-4b53-bf5b-4e3f75073c9f"
      },
      "source": [
        "mlogR = LogisticRegression(solver='lbfgs',multi_class='multinomial')\n",
        "mlogR.fit(X_train ,y_train)"
      ],
      "execution_count": null,
      "outputs": [
        {
          "output_type": "execute_result",
          "data": {
            "text/plain": [
              "LogisticRegression(C=1.0, class_weight=None, dual=False, fit_intercept=True,\n",
              "                   intercept_scaling=1, l1_ratio=None, max_iter=100,\n",
              "                   multi_class='multinomial', n_jobs=None, penalty='l2',\n",
              "                   random_state=None, solver='lbfgs', tol=0.0001, verbose=0,\n",
              "                   warm_start=False)"
            ]
          },
          "metadata": {
            "tags": []
          },
          "execution_count": 162
        }
      ]
    },
    {
      "cell_type": "markdown",
      "metadata": {
        "id": "a9l02pgYiLF7",
        "colab_type": "text"
      },
      "source": [
        "# Accuracy Calculation with Confussion Matrix and Classification Report Printing"
      ]
    },
    {
      "cell_type": "code",
      "metadata": {
        "id": "Hm4R5uPXipEP",
        "colab_type": "code",
        "colab": {}
      },
      "source": [
        "from sklearn.metrics import accuracy_score\n",
        "from sklearn import metrics\n",
        "from sklearn.metrics import confusion_matrix\n",
        "import seaborn as sn\n",
        "import matplotlib.pyplot as plt\n",
        "from yellowbrick.classifier import ClassificationReport"
      ],
      "execution_count": null,
      "outputs": []
    },
    {
      "cell_type": "code",
      "metadata": {
        "id": "1rrkXco7ipU1",
        "colab_type": "code",
        "colab": {}
      },
      "source": [
        "def calculate_accuracy(name,model):\n",
        "    y_pred = model.predict(X_test)\n",
        "    #print the accuracy score of the model\n",
        "    accuracy = metrics.accuracy_score(y_test, y_pred, normalize = True)\n",
        "    print(name,\"Accuracy : \",accuracy*100,\"%\\n\")\n",
        "    score = confusion_matrix(y_test, y_pred)\n",
        "    #plot the confusion matrix in heatmap\n",
        "    sn.heatmap(score,annot= True,cmap=\"Purples\",fmt='g')\n",
        "    plt.xticks([0.5,1.5,2.5],labels=[\"Negative\",\"Positive\",\"Neutral\"])\n",
        "    plt.yticks([0.5,1.5,2.5],labels=[\"Negative\",\"Positive\",\"Neutral\"])\n",
        "    plt.title('Confusion matrix\\n', fontdict={'fontsize':18, 'color' : 'midnightblue'})\n",
        "    plt.xlabel('\\nPredicted label')\n",
        "    plt.ylabel('Actual label')"
      ],
      "execution_count": null,
      "outputs": []
    },
    {
      "cell_type": "code",
      "metadata": {
        "id": "ahGDFfm0ipeb",
        "colab_type": "code",
        "colab": {}
      },
      "source": [
        "def report(name,model):\n",
        "    y_pred = model.predict(X_test)\n",
        "    print('{:^60s}'.format(\"Classification Report\\n\"))\n",
        "    print(metrics.classification_report(y_test, y_pred,target_names=['Negative','Positive','Neutral'],digits=3))"
      ],
      "execution_count": null,
      "outputs": []
    },
    {
      "cell_type": "markdown",
      "metadata": {
        "id": "PJQ4fcNT3FXb",
        "colab_type": "text"
      },
      "source": [
        "## Naive Bayes"
      ]
    },
    {
      "cell_type": "code",
      "metadata": {
        "id": "K8EoU4gMiplm",
        "colab_type": "code",
        "colab": {
          "base_uri": "https://localhost:8080/",
          "height": 445
        },
        "outputId": "52e954c0-3e85-40cc-da7d-fc97903906a8"
      },
      "source": [
        "calculate_accuracy(\"MultinomialNB\",model=mlnNB)"
      ],
      "execution_count": null,
      "outputs": [
        {
          "output_type": "stream",
          "text": [
            "MultinomialNB Accuracy :  78.84231536926147 %\n",
            "\n"
          ],
          "name": "stdout"
        },
        {
          "output_type": "display_data",
          "data": {
            "image/png": "[encoded data removed]",
            "text/plain": [
              "<Figure size 576x396 with 2 Axes>"
            ]
          },
          "metadata": {
            "tags": []
          }
        }
      ]
    },
    {
      "cell_type": "code",
      "metadata": {
        "id": "Kcvlz4PDvj8V",
        "colab_type": "code",
        "colab": {
          "base_uri": "https://localhost:8080/",
          "height": 221
        },
        "outputId": "cc6a3e42-c3f3-4cf0-f423-cec965e53a70"
      },
      "source": [
        "report(name=\"MultinomialNB\",model=mlnNB)"
      ],
      "execution_count": null,
      "outputs": [
        {
          "output_type": "stream",
          "text": [
            "                   Classification Report\n",
            "                   \n",
            "              precision    recall  f1-score   support\n",
            "\n",
            "    Negative      0.846     0.813     0.829       257\n",
            "    Positive      0.809     0.844     0.826       186\n",
            "     Neutral      0.483     0.500     0.492        58\n",
            "\n",
            "    accuracy                          0.788       501\n",
            "   macro avg      0.713     0.719     0.716       501\n",
            "weighted avg      0.790     0.788     0.789       501\n",
            "\n"
          ],
          "name": "stdout"
        }
      ]
    },
    {
      "cell_type": "code",
      "metadata": {
        "id": "1i7f1w_r3Ljw",
        "colab_type": "code",
        "colab": {
          "base_uri": "https://localhost:8080/",
          "height": 445
        },
        "outputId": "1a1b112d-49de-4dcc-925f-bc38e4533881"
      },
      "source": [
        "calculate_accuracy(\"BernoulliNB\",model=bnlNB)"
      ],
      "execution_count": null,
      "outputs": [
        {
          "output_type": "stream",
          "text": [
            "BernoulliNB Accuracy :  74.8502994011976 %\n",
            "\n"
          ],
          "name": "stdout"
        },
        {
          "output_type": "display_data",
          "data": {
            "image/png": "[encoded data removed]",
            "text/plain": [
              "<Figure size 576x396 with 2 Axes>"
            ]
          },
          "metadata": {
            "tags": []
          }
        }
      ]
    },
    {
      "cell_type": "code",
      "metadata": {
        "id": "o7kAWHa9_etL",
        "colab_type": "code",
        "colab": {
          "base_uri": "https://localhost:8080/",
          "height": 221
        },
        "outputId": "875e2349-c21c-40bb-fdec-fb064d7a5c7e"
      },
      "source": [
        "report(\"BernoulliNB\",model=bnlNB)"
      ],
      "execution_count": null,
      "outputs": [
        {
          "output_type": "stream",
          "text": [
            "                   Classification Report\n",
            "                   \n",
            "              precision    recall  f1-score   support\n",
            "\n",
            "    Negative      0.883     0.767     0.821       257\n",
            "    Positive      0.683     0.914     0.782       186\n",
            "     Neutral      0.276     0.138     0.184        58\n",
            "\n",
            "    accuracy                          0.749       501\n",
            "   macro avg      0.614     0.606     0.595       501\n",
            "weighted avg      0.739     0.749     0.733       501\n",
            "\n"
          ],
          "name": "stdout"
        }
      ]
    },
    {
      "cell_type": "code",
      "metadata": {
        "id": "JP126Dh63LsN",
        "colab_type": "code",
        "colab": {
          "base_uri": "https://localhost:8080/",
          "height": 445
        },
        "outputId": "5b309c38-6436-43fb-e5da-a82b324cd828"
      },
      "source": [
        "calculate_accuracy(\"GaussianNB\",model=gNB)"
      ],
      "execution_count": null,
      "outputs": [
        {
          "output_type": "stream",
          "text": [
            "GaussianNB Accuracy :  79.44111776447106 %\n",
            "\n"
          ],
          "name": "stdout"
        },
        {
          "output_type": "display_data",
          "data": {
            "image/png": "[encoded data removed]",
            "text/plain": [
              "<Figure size 576x396 with 2 Axes>"
            ]
          },
          "metadata": {
            "tags": []
          }
        }
      ]
    },
    {
      "cell_type": "code",
      "metadata": {
        "id": "7M9_75wv_pbC",
        "colab_type": "code",
        "colab": {
          "base_uri": "https://localhost:8080/",
          "height": 221
        },
        "outputId": "c1e13213-e834-4e3d-f60b-ac7655284b33"
      },
      "source": [
        "report(\"GaussianNB\",model=gNB)"
      ],
      "execution_count": null,
      "outputs": [
        {
          "output_type": "stream",
          "text": [
            "                   Classification Report\n",
            "                   \n",
            "              precision    recall  f1-score   support\n",
            "\n",
            "    Negative      0.874     0.809     0.840       257\n",
            "    Positive      0.772     0.801     0.786       186\n",
            "     Neutral      0.586     0.707     0.641        58\n",
            "\n",
            "    accuracy                          0.794       501\n",
            "   macro avg      0.744     0.772     0.756       501\n",
            "weighted avg      0.803     0.794     0.797       501\n",
            "\n"
          ],
          "name": "stdout"
        }
      ]
    },
    {
      "cell_type": "markdown",
      "metadata": {
        "id": "QvbJFZpn3Wn0",
        "colab_type": "text"
      },
      "source": [
        "## Support Vector Classifier"
      ]
    },
    {
      "cell_type": "code",
      "metadata": {
        "id": "KFUZrtUO3L7L",
        "colab_type": "code",
        "colab": {
          "base_uri": "https://localhost:8080/",
          "height": 445
        },
        "outputId": "55a0dfe7-6592-40dc-94b8-d4f83e19f2a7"
      },
      "source": [
        "calculate_accuracy(\"Linear SVC\",model=linear_svc)"
      ],
      "execution_count": null,
      "outputs": [
        {
          "output_type": "stream",
          "text": [
            "Linear SVC Accuracy :  80.43912175648703 %\n",
            "\n"
          ],
          "name": "stdout"
        },
        {
          "output_type": "display_data",
          "data": {
            "image/png": "[encoded data removed]",
            "text/plain": [
              "<Figure size 576x396 with 2 Axes>"
            ]
          },
          "metadata": {
            "tags": []
          }
        }
      ]
    },
    {
      "cell_type": "code",
      "metadata": {
        "id": "c2KkrhUoGzlC",
        "colab_type": "code",
        "colab": {
          "base_uri": "https://localhost:8080/",
          "height": 221
        },
        "outputId": "68253c0a-8ef6-4437-adfa-9fd363160c71"
      },
      "source": [
        "report(\"Linear SVC\",model=linear_svc)"
      ],
      "execution_count": null,
      "outputs": [
        {
          "output_type": "stream",
          "text": [
            "                   Classification Report\n",
            "                   \n",
            "              precision    recall  f1-score   support\n",
            "\n",
            "    Negative      0.885     0.805     0.843       257\n",
            "    Positive      0.744     0.892     0.812       186\n",
            "     Neutral      0.682     0.517     0.588        58\n",
            "\n",
            "    accuracy                          0.804       501\n",
            "   macro avg      0.770     0.738     0.748       501\n",
            "weighted avg      0.809     0.804     0.802       501\n",
            "\n"
          ],
          "name": "stdout"
        }
      ]
    },
    {
      "cell_type": "markdown",
      "metadata": {
        "id": "fHcZbJ-jQziz",
        "colab_type": "text"
      },
      "source": [
        "## Logistic Regression"
      ]
    },
    {
      "cell_type": "code",
      "metadata": {
        "id": "J1sLoVzoRh9f",
        "colab_type": "code",
        "colab": {
          "base_uri": "https://localhost:8080/",
          "height": 445
        },
        "outputId": "5c79b0b3-e222-4e31-8eb0-05ac791da4cd"
      },
      "source": [
        "calculate_accuracy('Logistic Regression', model=mlogR)"
      ],
      "execution_count": null,
      "outputs": [
        {
          "output_type": "stream",
          "text": [
            "Logistic Regression Accuracy :  83.03393213572853 %\n",
            "\n"
          ],
          "name": "stdout"
        },
        {
          "output_type": "display_data",
          "data": {
            "image/png": "[encoded data removed]",
            "text/plain": [
              "<Figure size 576x396 with 2 Axes>"
            ]
          },
          "metadata": {
            "tags": []
          }
        }
      ]
    },
    {
      "cell_type": "code",
      "metadata": {
        "id": "T-dKHEsJRiLi",
        "colab_type": "code",
        "colab": {
          "base_uri": "https://localhost:8080/",
          "height": 221
        },
        "outputId": "7fbaf1ef-7e18-4a68-993d-51e7732a1453"
      },
      "source": [
        "report('Logistic Regression', model=mlogR)"
      ],
      "execution_count": null,
      "outputs": [
        {
          "output_type": "stream",
          "text": [
            "                   Classification Report\n",
            "                   \n",
            "              precision    recall  f1-score   support\n",
            "\n",
            "    Negative      0.880     0.860     0.870       257\n",
            "    Positive      0.777     0.898     0.833       186\n",
            "     Neutral      0.800     0.483     0.602        58\n",
            "\n",
            "    accuracy                          0.830       501\n",
            "   macro avg      0.819     0.747     0.768       501\n",
            "weighted avg      0.833     0.830     0.825       501\n",
            "\n"
          ],
          "name": "stdout"
        }
      ]
    },
    {
      "cell_type": "markdown",
      "metadata": {
        "id": "8ySdzoXqOOIR",
        "colab_type": "text"
      },
      "source": [
        "# Acuracy Comparison"
      ]
    },
    {
      "cell_type": "code",
      "metadata": {
        "id": "WYNPTmQ34lrG",
        "colab_type": "code",
        "colab": {}
      },
      "source": [
        "modelNames=[]\n",
        "accuracies=[]\n",
        "def calculate_comperative_accuracy(name,actual, model):\n",
        "    predictions = model.predict(X_test)\n",
        "    total = len(predictions)\n",
        "    idx = 0\n",
        "    error = 0\n",
        "    while idx < total:\n",
        "        if predictions[idx] != actual[idx]:\n",
        "            p = predictions[idx]\n",
        "            a = actual[idx]\n",
        "            error += 1\n",
        "        idx += 1\n",
        "    print(name, ':\\n')\n",
        "    print(\"Total=\", total)\n",
        "    print(\"Error=\", error)\n",
        "    accracy=((total - error) * 100) / total\n",
        "    print(\"Accuracy = \", accracy,'%\\n')\n",
        "    #print(\"actual accracy = \", actual_accracy,'%\\n')\n",
        "    modelNames.append(name)\n",
        "    accuracies.append(accracy)"
      ],
      "execution_count": null,
      "outputs": []
    },
    {
      "cell_type": "code",
      "metadata": {
        "id": "_Wd3vubs45YK",
        "colab_type": "code",
        "colab": {
          "base_uri": "https://localhost:8080/",
          "height": 527
        },
        "outputId": "ae596590-2faa-41b7-9166-5617d6ede1ce"
      },
      "source": [
        "calculate_comperative_accuracy('MultinomialNB',y_test, model=mlnNB)\n",
        "\n",
        "calculate_comperative_accuracy('BernoulliNB',y_test, model=bnlNB)\n",
        "\n",
        "calculate_comperative_accuracy('GaussianNB',y_test, model=gNB)\n",
        "\n",
        "calculate_comperative_accuracy('Linear SVC',y_test, model=linear_svc)\n",
        "\n",
        "calculate_comperative_accuracy('Logistic Regression',y_test, model=mlogR)"
      ],
      "execution_count": null,
      "outputs": [
        {
          "output_type": "stream",
          "text": [
            "MultinomialNB :\n",
            "\n",
            "Total= 501\n",
            "Error= 106\n",
            "Accuracy =  78.84231536926147 %\n",
            "\n",
            "BernoulliNB :\n",
            "\n",
            "Total= 501\n",
            "Error= 126\n",
            "Accuracy =  74.8502994011976 %\n",
            "\n",
            "GaussianNB :\n",
            "\n",
            "Total= 501\n",
            "Error= 103\n",
            "Accuracy =  79.44111776447106 %\n",
            "\n",
            "Linear SVC :\n",
            "\n",
            "Total= 501\n",
            "Error= 98\n",
            "Accuracy =  80.43912175648703 %\n",
            "\n",
            "Logistic Regression :\n",
            "\n",
            "Total= 501\n",
            "Error= 85\n",
            "Accuracy =  83.03393213572855 %\n",
            "\n"
          ],
          "name": "stdout"
        }
      ]
    },
    {
      "cell_type": "markdown",
      "metadata": {
        "id": "ZX_mEpg-aQfi",
        "colab_type": "text"
      },
      "source": [
        "## Final Comparison"
      ]
    },
    {
      "cell_type": "code",
      "metadata": {
        "id": "ilV-mDV-aW5k",
        "colab_type": "code",
        "colab": {
          "base_uri": "https://localhost:8080/",
          "height": 119
        },
        "outputId": "f4e9a45d-027f-47aa-e108-172d1aa0a12f"
      },
      "source": [
        "data = {'Model Name': modelNames,\n",
        "        'Accuracy': accuracies\n",
        "        }\n",
        "\n",
        "new_df = pd.DataFrame(data, columns = ['Model Name', 'Accuracy'])\n",
        "new_df.sort_values(by=['Accuracy'], inplace=True, ascending=False)\n",
        "print(new_df)"
      ],
      "execution_count": null,
      "outputs": [
        {
          "output_type": "stream",
          "text": [
            "            Model Name   Accuracy\n",
            "4  Logistic Regression  83.033932\n",
            "3           Linear SVC  80.439122\n",
            "2           GaussianNB  79.441118\n",
            "0        MultinomialNB  78.842315\n",
            "1          BernoulliNB  74.850299\n"
          ],
          "name": "stdout"
        }
      ]
    },
    {
      "cell_type": "code",
      "metadata": {
        "id": "n9mQB94mbe9C",
        "colab_type": "code",
        "colab": {
          "base_uri": "https://localhost:8080/",
          "height": 574
        },
        "outputId": "feb8beb8-1fcf-457b-8cb3-e1c56956b38b"
      },
      "source": [
        "my_colors = [(0.5,0.4,0.5), (0.75, 0.75, 0.25)]*5\n",
        "ax=new_df.plot('Model Name','Accuracy','bar',color=my_colors,figsize=(8, 8),width=0.6)\n",
        "for p in ax.patches:\n",
        "  ax.annotate(str(np.round(p.get_height(),decimals=2))+'%',(p.get_x()+p.get_width()/2, p.get_height()),\n",
        "  ha='center',va='center', xytext=(0, 10),textcoords='offset points')"
      ],
      "execution_count": null,
      "outputs": [
        {
          "output_type": "display_data",
          "data": {
            "image/png": "[encoded data removed]",
            "text/plain": [
              "<Figure size 576x576 with 1 Axes>"
            ]
          },
          "metadata": {
            "tags": []
          }
        }
      ]
    },
    {
      "cell_type": "markdown",
      "metadata": {
        "id": "Iz2viOqI77Me",
        "colab_type": "text"
      },
      "source": [
        "# Saving the best Models"
      ]
    },
    {
      "cell_type": "code",
      "metadata": {
        "id": "Qx1yv0xxnClk",
        "colab_type": "code",
        "colab": {
          "base_uri": "https://localhost:8080/",
          "height": 34
        },
        "outputId": "640338a7-7238-4e27-a1b6-a6e36b216bf4"
      },
      "source": [
        "from sklearn.externals import joblib\n",
        "filename1 = 'linear_svc_model.sav'\n",
        "joblib.dump(linear_svc, filename1)"
      ],
      "execution_count": null,
      "outputs": [
        {
          "output_type": "execute_result",
          "data": {
            "text/plain": [
              "['linear_svc_model.sav']"
            ]
          },
          "metadata": {
            "tags": []
          },
          "execution_count": 180
        }
      ]
    },
    {
      "cell_type": "code",
      "metadata": {
        "id": "A1trgdKJnCxA",
        "colab_type": "code",
        "colab": {
          "base_uri": "https://localhost:8080/",
          "height": 34
        },
        "outputId": "13fe6796-649c-48c0-ed65-a0437f6f5de4"
      },
      "source": [
        "filename2 = 'gaussian_naive_bayes_model.sav'\n",
        "joblib.dump(gNB, filename2)"
      ],
      "execution_count": null,
      "outputs": [
        {
          "output_type": "execute_result",
          "data": {
            "text/plain": [
              "['gaussian_naive_bayes_model.sav']"
            ]
          },
          "metadata": {
            "tags": []
          },
          "execution_count": 181
        }
      ]
    },
    {
      "cell_type": "code",
      "metadata": {
        "id": "-DDt0oBPV5Bi",
        "colab_type": "code",
        "colab": {
          "base_uri": "https://localhost:8080/",
          "height": 34
        },
        "outputId": "646618c5-98b4-4f87-91fb-788d177006d8"
      },
      "source": [
        "filename3 = 'logistic_regrassion_model.sav'\n",
        "joblib.dump(mlogR, filename3)"
      ],
      "execution_count": null,
      "outputs": [
        {
          "output_type": "execute_result",
          "data": {
            "text/plain": [
              "['logistic_regrassion_model.sav']"
            ]
          },
          "metadata": {
            "tags": []
          },
          "execution_count": 182
        }
      ]
    },
    {
      "cell_type": "markdown",
      "metadata": {
        "id": "0Qhnq8cNbDXD",
        "colab_type": "text"
      },
      "source": [
        "# Using saved model to determine polarity of a sentence"
      ]
    },
    {
      "cell_type": "code",
      "metadata": {
        "id": "40WZFrOcejLo",
        "colab_type": "code",
        "colab": {
          "base_uri": "https://localhost:8080/",
          "height": 68
        },
        "outputId": "b81014af-080d-48bf-d668-4a823c6a0f97"
      },
      "source": [
        "sent = 'মাশরাফি শুধু একটা নাম না এটা ২০ কোটি মানুষের আবেগের নাম ভালোবাসার নাম'\n",
        "\n",
        "sent = clean_sentence(sent)\n",
        "sent2vec = sentence_to_vector_transform(sent,stpGram_rsw)\n",
        "sent_list = list()\n",
        "sent_list.append(sent2vec)\n",
        "\n",
        "loaded_model = joblib.load(filename1)\n",
        "predictions = loaded_model.predict(sent_list)\n",
        "print(predictions)\n",
        "\n",
        "ans = \"\"\n",
        "print(classDict)\n",
        "for key, value in classDict.items():\n",
        "    if value == predictions[0]:\n",
        "        ans = key\n",
        "print(ans)"
      ],
      "execution_count": null,
      "outputs": [
        {
          "output_type": "stream",
          "text": [
            "[1]\n",
            "{'negative': 0, 'positive': 1, 'neutral': 2}\n",
            "positive\n"
          ],
          "name": "stdout"
        }
      ]
    },
    {
      "cell_type": "code",
      "metadata": {
        "id": "Il0Ss2u7o-hy",
        "colab_type": "code",
        "colab": {
          "base_uri": "https://localhost:8080/",
          "height": 68
        },
        "outputId": "5fb7a2f5-3276-4ff4-f73c-6814b2877979"
      },
      "source": [
        "sent = 'বাংলাদেশের খেলা কবে?'\n",
        "\n",
        "sent = clean_sentence(sent)\n",
        "sent2vec = sentence_to_vector_transform(sent,stpGram_rsw)\n",
        "sent_list = list()\n",
        "sent_list.append(sent2vec)\n",
        "\n",
        "loaded_model = joblib.load(filename2)\n",
        "predictions = loaded_model.predict(sent_list)\n",
        "print(predictions)\n",
        "\n",
        "ans = \"\"\n",
        "print(classDict)\n",
        "for key, value in classDict.items():\n",
        "    if value == predictions[0]:\n",
        "        ans = key\n",
        "print(ans)"
      ],
      "execution_count": null,
      "outputs": [
        {
          "output_type": "stream",
          "text": [
            "[2]\n",
            "{'negative': 0, 'positive': 1, 'neutral': 2}\n",
            "neutral\n"
          ],
          "name": "stdout"
        }
      ]
    },
    {
      "cell_type": "code",
      "metadata": {
        "id": "EMv2UJ33Vzdk",
        "colab_type": "code",
        "colab": {
          "base_uri": "https://localhost:8080/",
          "height": 68
        },
        "outputId": "bb2a66e0-61c2-4f28-ff6d-941a066c00ea"
      },
      "source": [
        "sent = '১৭ বার ১০০ রানের নিচে অলআউট হওয়ার রেকর্ড শুধু বাংলাদেশেরই'\n",
        "\n",
        "sent = clean_sentence(sent)\n",
        "sent2vec = sentence_to_vector_transform(sent,stpGram_rsw)\n",
        "sent_list = list()\n",
        "sent_list.append(sent2vec)\n",
        "\n",
        "loaded_model = joblib.load(filename3)\n",
        "predictions = loaded_model.predict(sent_list)\n",
        "print(predictions)\n",
        "\n",
        "ans = \"\"\n",
        "print(classDict)\n",
        "for key, value in classDict.items():\n",
        "    if value == predictions[0]:\n",
        "        ans = key\n",
        "print(ans)"
      ],
      "execution_count": null,
      "outputs": [
        {
          "output_type": "stream",
          "text": [
            "[0]\n",
            "{'negative': 0, 'positive': 1, 'neutral': 2}\n",
            "negative\n"
          ],
          "name": "stdout"
        }
      ]
    }
  ]
}